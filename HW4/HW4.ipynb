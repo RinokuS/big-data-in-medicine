{
 "cells": [
  {
   "cell_type": "markdown",
   "metadata": {},
   "source": [
    "# HW 4\n",
    "## Prepare notebook"
   ]
  },
  {
   "cell_type": "code",
   "execution_count": 3,
   "metadata": {},
   "outputs": [
    {
     "name": "stdout",
     "output_type": "stream",
     "text": [
      "Requirement already satisfied: pandas in ./.venv/lib/python3.10/site-packages (2.1.1)\n",
      "Requirement already satisfied: numpy>=1.22.4 in ./.venv/lib/python3.10/site-packages (from pandas) (1.26.0)\n",
      "Requirement already satisfied: python-dateutil>=2.8.2 in ./.venv/lib/python3.10/site-packages (from pandas) (2.8.2)\n",
      "Requirement already satisfied: pytz>=2020.1 in ./.venv/lib/python3.10/site-packages (from pandas) (2023.3.post1)\n",
      "Requirement already satisfied: tzdata>=2022.1 in ./.venv/lib/python3.10/site-packages (from pandas) (2023.3)\n",
      "Requirement already satisfied: six>=1.5 in ./.venv/lib/python3.10/site-packages (from python-dateutil>=2.8.2->pandas) (1.16.0)\n",
      "Note: you may need to restart the kernel to use updated packages.\n",
      "Requirement already satisfied: scikit-learn in ./.venv/lib/python3.10/site-packages (1.3.1)\n",
      "Requirement already satisfied: numpy<2.0,>=1.17.3 in ./.venv/lib/python3.10/site-packages (from scikit-learn) (1.26.0)\n",
      "Requirement already satisfied: scipy>=1.5.0 in ./.venv/lib/python3.10/site-packages (from scikit-learn) (1.11.3)\n",
      "Requirement already satisfied: joblib>=1.1.1 in ./.venv/lib/python3.10/site-packages (from scikit-learn) (1.3.2)\n",
      "Requirement already satisfied: threadpoolctl>=2.0.0 in ./.venv/lib/python3.10/site-packages (from scikit-learn) (3.2.0)\n",
      "Note: you may need to restart the kernel to use updated packages.\n",
      "Collecting openpyxl\n",
      "  Using cached openpyxl-3.1.2-py2.py3-none-any.whl (249 kB)\n",
      "Collecting et-xmlfile (from openpyxl)\n",
      "  Using cached et_xmlfile-1.1.0-py3-none-any.whl (4.7 kB)\n",
      "Installing collected packages: et-xmlfile, openpyxl\n",
      "Successfully installed et-xmlfile-1.1.0 openpyxl-3.1.2\n",
      "Note: you may need to restart the kernel to use updated packages.\n"
     ]
    }
   ],
   "source": [
    "%pip install pandas\n",
    "%pip install scikit-learn\n",
    "%pip install openpyxl"
   ]
  },
  {
   "cell_type": "code",
   "execution_count": 1,
   "metadata": {},
   "outputs": [],
   "source": [
    "import pandas as pd\n",
    "import numpy as np"
   ]
  },
  {
   "cell_type": "code",
   "execution_count": 2,
   "metadata": {},
   "outputs": [
    {
     "name": "stdout",
     "output_type": "stream",
     "text": [
      "(23583, 86)\n"
     ]
    },
    {
     "data": {
      "text/html": [
       "<div>\n",
       "<style scoped>\n",
       "    .dataframe tbody tr th:only-of-type {\n",
       "        vertical-align: middle;\n",
       "    }\n",
       "\n",
       "    .dataframe tbody tr th {\n",
       "        vertical-align: top;\n",
       "    }\n",
       "\n",
       "    .dataframe thead th {\n",
       "        text-align: right;\n",
       "    }\n",
       "</style>\n",
       "<table border=\"1\" class=\"dataframe\">\n",
       "  <thead>\n",
       "    <tr style=\"text-align: right;\">\n",
       "      <th></th>\n",
       "      <th>Wait</th>\n",
       "      <th>SumHowEarlyWaiting</th>\n",
       "      <th>AvgHowEarlyWaiting</th>\n",
       "      <th>LineCount0Strict</th>\n",
       "      <th>SumWaits</th>\n",
       "      <th>LineCount0</th>\n",
       "      <th>LineCount1</th>\n",
       "      <th>LineCount2</th>\n",
       "      <th>LineCount3</th>\n",
       "      <th>LineCount4</th>\n",
       "      <th>...</th>\n",
       "      <th>NumAddOnsToday</th>\n",
       "      <th>NumAddOnsLastW2</th>\n",
       "      <th>NumScheduledNextSlot</th>\n",
       "      <th>NumScheduledNextW2</th>\n",
       "      <th>SumTimeToCompleteNextSlot</th>\n",
       "      <th>SumTimeToCompleteNextW2</th>\n",
       "      <th>WithContrastCountWaiting</th>\n",
       "      <th>WithAndWithoutContrastCountWaiting</th>\n",
       "      <th>WithContrastCountInProgress</th>\n",
       "      <th>WithAndWithoutContrastCountInProgress</th>\n",
       "    </tr>\n",
       "  </thead>\n",
       "  <tbody>\n",
       "    <tr>\n",
       "      <th>0</th>\n",
       "      <td>0</td>\n",
       "      <td>372</td>\n",
       "      <td>62</td>\n",
       "      <td>6</td>\n",
       "      <td>249</td>\n",
       "      <td>6</td>\n",
       "      <td>5</td>\n",
       "      <td>6</td>\n",
       "      <td>6</td>\n",
       "      <td>4</td>\n",
       "      <td>...</td>\n",
       "      <td>4</td>\n",
       "      <td>2</td>\n",
       "      <td>0</td>\n",
       "      <td>0</td>\n",
       "      <td>0</td>\n",
       "      <td>0</td>\n",
       "      <td>3</td>\n",
       "      <td>1</td>\n",
       "      <td>1</td>\n",
       "      <td>0</td>\n",
       "    </tr>\n",
       "    <tr>\n",
       "      <th>1</th>\n",
       "      <td>-3</td>\n",
       "      <td>335</td>\n",
       "      <td>67</td>\n",
       "      <td>3</td>\n",
       "      <td>195</td>\n",
       "      <td>5</td>\n",
       "      <td>4</td>\n",
       "      <td>6</td>\n",
       "      <td>6</td>\n",
       "      <td>5</td>\n",
       "      <td>...</td>\n",
       "      <td>4</td>\n",
       "      <td>1</td>\n",
       "      <td>2</td>\n",
       "      <td>0</td>\n",
       "      <td>32</td>\n",
       "      <td>0</td>\n",
       "      <td>2</td>\n",
       "      <td>1</td>\n",
       "      <td>2</td>\n",
       "      <td>0</td>\n",
       "    </tr>\n",
       "    <tr>\n",
       "      <th>2</th>\n",
       "      <td>-25</td>\n",
       "      <td>274</td>\n",
       "      <td>68</td>\n",
       "      <td>4</td>\n",
       "      <td>150</td>\n",
       "      <td>4</td>\n",
       "      <td>5</td>\n",
       "      <td>6</td>\n",
       "      <td>4</td>\n",
       "      <td>6</td>\n",
       "      <td>...</td>\n",
       "      <td>4</td>\n",
       "      <td>1</td>\n",
       "      <td>1</td>\n",
       "      <td>1</td>\n",
       "      <td>13</td>\n",
       "      <td>16</td>\n",
       "      <td>1</td>\n",
       "      <td>1</td>\n",
       "      <td>3</td>\n",
       "      <td>0</td>\n",
       "    </tr>\n",
       "    <tr>\n",
       "      <th>3</th>\n",
       "      <td>36</td>\n",
       "      <td>369</td>\n",
       "      <td>73</td>\n",
       "      <td>2</td>\n",
       "      <td>179</td>\n",
       "      <td>5</td>\n",
       "      <td>6</td>\n",
       "      <td>4</td>\n",
       "      <td>5</td>\n",
       "      <td>5</td>\n",
       "      <td>...</td>\n",
       "      <td>3</td>\n",
       "      <td>1</td>\n",
       "      <td>2</td>\n",
       "      <td>1</td>\n",
       "      <td>45</td>\n",
       "      <td>16</td>\n",
       "      <td>3</td>\n",
       "      <td>1</td>\n",
       "      <td>1</td>\n",
       "      <td>0</td>\n",
       "    </tr>\n",
       "    <tr>\n",
       "      <th>4</th>\n",
       "      <td>-21</td>\n",
       "      <td>438</td>\n",
       "      <td>73</td>\n",
       "      <td>5</td>\n",
       "      <td>192</td>\n",
       "      <td>6</td>\n",
       "      <td>5</td>\n",
       "      <td>5</td>\n",
       "      <td>6</td>\n",
       "      <td>5</td>\n",
       "      <td>...</td>\n",
       "      <td>3</td>\n",
       "      <td>0</td>\n",
       "      <td>2</td>\n",
       "      <td>1</td>\n",
       "      <td>32</td>\n",
       "      <td>15</td>\n",
       "      <td>4</td>\n",
       "      <td>0</td>\n",
       "      <td>0</td>\n",
       "      <td>1</td>\n",
       "    </tr>\n",
       "  </tbody>\n",
       "</table>\n",
       "<p>5 rows × 86 columns</p>\n",
       "</div>"
      ],
      "text/plain": [
       "   Wait  SumHowEarlyWaiting  AvgHowEarlyWaiting  LineCount0Strict  SumWaits  \\\n",
       "0     0                 372                  62                 6       249   \n",
       "1    -3                 335                  67                 3       195   \n",
       "2   -25                 274                  68                 4       150   \n",
       "3    36                 369                  73                 2       179   \n",
       "4   -21                 438                  73                 5       192   \n",
       "\n",
       "   LineCount0  LineCount1  LineCount2  LineCount3  LineCount4  ...  \\\n",
       "0           6           5           6           6           4  ...   \n",
       "1           5           4           6           6           5  ...   \n",
       "2           4           5           6           4           6  ...   \n",
       "3           5           6           4           5           5  ...   \n",
       "4           6           5           5           6           5  ...   \n",
       "\n",
       "   NumAddOnsToday  NumAddOnsLastW2  NumScheduledNextSlot  NumScheduledNextW2  \\\n",
       "0               4                2                     0                   0   \n",
       "1               4                1                     2                   0   \n",
       "2               4                1                     1                   1   \n",
       "3               3                1                     2                   1   \n",
       "4               3                0                     2                   1   \n",
       "\n",
       "   SumTimeToCompleteNextSlot  SumTimeToCompleteNextW2  \\\n",
       "0                          0                        0   \n",
       "1                         32                        0   \n",
       "2                         13                       16   \n",
       "3                         45                       16   \n",
       "4                         32                       15   \n",
       "\n",
       "   WithContrastCountWaiting  WithAndWithoutContrastCountWaiting  \\\n",
       "0                         3                                   1   \n",
       "1                         2                                   1   \n",
       "2                         1                                   1   \n",
       "3                         3                                   1   \n",
       "4                         4                                   0   \n",
       "\n",
       "   WithContrastCountInProgress  WithAndWithoutContrastCountInProgress  \n",
       "0                            1                                      0  \n",
       "1                            2                                      0  \n",
       "2                            3                                      0  \n",
       "3                            1                                      0  \n",
       "4                            0                                      1  \n",
       "\n",
       "[5 rows x 86 columns]"
      ]
     },
     "execution_count": 2,
     "metadata": {},
     "output_type": "execute_result"
    }
   ],
   "source": [
    "df = pd.read_excel(\"DataOnly/WaitData.Published.xlsx\")\n",
    "print(df.shape)\n",
    "df.head()"
   ]
  },
  {
   "cell_type": "code",
   "execution_count": 3,
   "metadata": {},
   "outputs": [
    {
     "name": "stdout",
     "output_type": "stream",
     "text": [
      "(23583, 85) (23583,)\n"
     ]
    }
   ],
   "source": [
    "X = df.drop('Wait', axis=1)\n",
    "Y = df['Wait']\n",
    "print(X.shape, Y.shape)"
   ]
  },
  {
   "cell_type": "markdown",
   "metadata": {},
   "source": [
    "## Task 5"
   ]
  },
  {
   "cell_type": "code",
   "execution_count": 4,
   "metadata": {},
   "outputs": [
    {
     "name": "stdout",
     "output_type": "stream",
     "text": [
      "Model error: 23.16628893634778\n"
     ]
    }
   ],
   "source": [
    "from sklearn import linear_model\n",
    "model = linear_model.LinearRegression()\n",
    "model.fit(X, Y)\n",
    "Ypred = model.predict(X) # use trained regression model to predict\n",
    "r = Y - Ypred # compute prediction error (residual)\n",
    "e = abs(r).mean() # compute model error\n",
    "print(f\"Model error: {e}\")\n"
   ]
  },
  {
   "cell_type": "markdown",
   "metadata": {},
   "source": [
    "## Task 6"
   ]
  },
  {
   "cell_type": "code",
   "execution_count": 7,
   "metadata": {},
   "outputs": [
    {
     "name": "stdout",
     "output_type": "stream",
     "text": [
      "\n",
      ">Python feature selection:\n",
      "32.50541172120655 ['CardiacCount']\n",
      "31.224937706982736 ['CardiacCount', 'DelayedInLine']\n",
      "31.25752894868932 ['CardiacCount', 'StartTime', 'DelayedInLine']\n"
     ]
    }
   ],
   "source": [
    "# Run Python feature selection\n",
    "print('\\n>Python feature selection:')\n",
    "from sklearn.feature_selection import RFE\n",
    "from itertools import compress\n",
    "\n",
    "for nFeatures in range(1,4):\n",
    "    rfe = RFE(model, n_features_to_select=nFeatures)\n",
    "    X_rfe = rfe.fit_transform(X,Y) # transforming data using RFE   \n",
    "\n",
    "    model.fit(X_rfe,Y)\n",
    "    cols = list(compress(X.columns, rfe.support_))\n",
    "    model.fit(X[cols], Y)\n",
    "    e = abs(Y - model.predict(X[cols])).mean()\n",
    "    print(e, cols)\n"
   ]
  },
  {
   "cell_type": "markdown",
   "metadata": {},
   "source": [
    "## Task 7 - 8"
   ]
  },
  {
   "cell_type": "code",
   "execution_count": 9,
   "metadata": {},
   "outputs": [],
   "source": [
    "def feature_selection(n_features):\n",
    "    best_features = []\n",
    "    for i in range(1, n_features + 1):\n",
    "        errors = []\n",
    "        for col in X.columns:\n",
    "            model = linear_model.LinearRegression()\n",
    "            model.fit(X[best_features + [col]], Y)\n",
    "            Ypred = model.predict(X[best_features + [col]])  \n",
    "            e = abs(Y - Ypred).mean() \n",
    "            errors.append((col, e))\n",
    "        errors = sorted(errors, key=lambda x: x[1])\n",
    "        best_features.append(errors[0][0])\n",
    "        print(f'{i} feature', errors[0])"
   ]
  },
  {
   "cell_type": "code",
   "execution_count": 10,
   "metadata": {},
   "outputs": [
    {
     "name": "stdout",
     "output_type": "stream",
     "text": [
      "1 feature ('DelayedInLine', 31.227057699733514)\n",
      "2 feature ('LineCount0Strict', 30.137965863467567)\n",
      "3 feature ('LineCount0', 28.69649063225338)\n"
     ]
    }
   ],
   "source": [
    "feature_selection(3)"
   ]
  },
  {
   "cell_type": "code",
   "execution_count": 11,
   "metadata": {},
   "outputs": [
    {
     "name": "stdout",
     "output_type": "stream",
     "text": [
      "1 feature ('DelayedInLine', 31.227057699733514)\n",
      "2 feature ('LineCount0Strict', 30.137965863467567)\n",
      "3 feature ('LineCount0', 28.69649063225338)\n",
      "4 feature ('SumDelayWaitingInLine', 28.246309585132312)\n",
      "5 feature ('AheadCount', 28.147006842164522)\n",
      "6 feature ('NumCompletedToday', 24.98957473477478)\n",
      "7 feature ('NumScheduledNextW2', 24.65918640725134)\n",
      "8 feature ('DelayCount', 24.329071006187288)\n",
      "9 feature ('InProgressSize', 24.071936786758197)\n",
      "10 feature ('StartTime4', 23.846509492065223)\n",
      "11 feature ('AvgDelayForDay', 23.69261939854719)\n",
      "12 feature ('AvgWaitLastK1Customers', 23.62791429658231)\n",
      "13 feature ('SumDelayInProgress', 23.579159670479648)\n",
      "14 feature ('NumScheduledNextSlot', 23.54808179388178)\n",
      "15 feature ('IsFirst', 23.52096351255335)\n"
     ]
    }
   ],
   "source": [
    "feature_selection(15)"
   ]
  },
  {
   "cell_type": "markdown",
   "metadata": {},
   "source": [
    "## Task 9"
   ]
  },
  {
   "cell_type": "code",
   "execution_count": 12,
   "metadata": {},
   "outputs": [
    {
     "name": "stdout",
     "output_type": "stream",
     "text": [
      "(('AheadCount', 'SumDelayWaitingByExamCode', 'NumCompletedToday'), 26.072745167091245)\n"
     ]
    }
   ],
   "source": [
    "import itertools\n",
    "n_features = 3\n",
    "errors = []\n",
    "for i in range(1, n_features + 1):\n",
    "    for subset in itertools.combinations(X.columns, i):\n",
    "        model = linear_model.LinearRegression()\n",
    "        model.fit(X[list(subset)], Y)\n",
    "        Ypred = model.predict(X[list(subset)]) \n",
    "        e = abs(Y - Ypred).mean() \n",
    "        errors.append((subset, e))\n",
    "errors = sorted(errors, key=lambda x: x[1])\n",
    "print(errors[0])"
   ]
  }
 ],
 "metadata": {
  "kernelspec": {
   "display_name": "Python 3",
   "language": "python",
   "name": "python3"
  },
  "language_info": {
   "codemirror_mode": {
    "name": "ipython",
    "version": 3
   },
   "file_extension": ".py",
   "mimetype": "text/x-python",
   "name": "python",
   "nbconvert_exporter": "python",
   "pygments_lexer": "ipython3",
   "version": "3.12.4"
  },
  "orig_nbformat": 4
 },
 "nbformat": 4,
 "nbformat_minor": 2
}
